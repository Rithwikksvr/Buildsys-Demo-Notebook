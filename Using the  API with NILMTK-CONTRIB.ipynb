{
 "cells": [
  {
   "cell_type": "code",
   "execution_count": 1,
   "metadata": {},
   "outputs": [],
   "source": [
    "import warnings\n",
    "warnings.filterwarnings(\"ignore\")"
   ]
  },
  {
   "cell_type": "code",
   "execution_count": 2,
   "metadata": {},
   "outputs": [],
   "source": [
    "from nilmtk.api import API"
   ]
  },
  {
   "cell_type": "code",
   "execution_count": null,
   "metadata": {},
   "outputs": [],
   "source": []
  },
  {
   "cell_type": "code",
   "execution_count": 3,
   "metadata": {},
   "outputs": [],
   "source": [
    "from nilmtk.disaggregate import Mean, FHMMExact, CO, Hart85"
   ]
  },
  {
   "cell_type": "code",
   "execution_count": 4,
   "metadata": {},
   "outputs": [
    {
     "name": "stderr",
     "output_type": "stream",
     "text": [
      "Using TensorFlow backend.\n"
     ]
    }
   ],
   "source": [
    "from nilmtk_contrib.disaggregate import DAE,Seq2Point, Seq2Seq, RNN, WindowGRU"
   ]
  },
  {
   "cell_type": "code",
   "execution_count": 9,
   "metadata": {},
   "outputs": [],
   "source": [
    "from nilmtk_contrib.disaggregate import AFHMM,AFHMM_SAC, DSC"
   ]
  },
  {
   "cell_type": "code",
   "execution_count": 15,
   "metadata": {},
   "outputs": [],
   "source": [
    "redd = {\n",
    "  'power': {\n",
    "    'mains': ['apparent','active'],\n",
    "    'appliance': ['apparent','active']\n",
    "  },\n",
    "  'sample_rate': 60,\n",
    "\n",
    "  'appliances': ['fridge'],\n",
    "  'methods': {\n",
    "      'FHMMExact':FHMMExact({}),\n",
    "      'CO':CO({}),\n",
    "      'Mean': Mean({}),\n",
    "      'Hart85':Hart85({}),\n",
    "      'WindowGRU':WindowGRU({'n_epochs':50,'batch_size':32}),\n",
    "      'RNN':RNN({'n_epochs':50,'batch_size':32}),\n",
    "      'DAE':DAE({'n_epochs':50,'batch_size':32}),\n",
    "      'Seq2Point':Seq2Point({'n_epochs':50,'batch_size':32}),\n",
    "      'Seq2Seq':Seq2Seq({'n_epochs':50,'batch_size':32}),\n",
    "#       'DSC':DSC({'iterations':30}),\n",
    "#       'AFHMM':AFHMM({}),\n",
    "#       'AFHMM_SAC':AFHMM_SAC({}),\n",
    "      \n",
    "\n",
    "          \n",
    "  },\n",
    "   'train': {    \n",
    "    'datasets': {\n",
    "            'Dataport': {\n",
    "                'path': 'C:/Users/Hp/Desktop/nilmtk-contrib/dataport.hdf5',\n",
    "\t\t\t\t'buildings': {\n",
    "\t\t\t\t10: {\n",
    "\t\t\t\t\t'start_time': '2015-04-04',\n",
    "\t\t\t\t\t'end_time': '2015-04-05'\n",
    "\t\t\t\t},\n",
    "#                 56: {\n",
    "#             'start_time': '2015-01-28',\n",
    "#             'end_time': '2015-01-30'\n",
    "#           },\n",
    "\t\t\t\t}\n",
    "\t\t\t\t                \n",
    "\t\t\t}\n",
    "\t\t\t}\n",
    "\t},\n",
    "\t'test': {\n",
    "\t'datasets': {\n",
    "\t\t'Datport': {\n",
    "\t\t\t'path': 'C:/Users/Hp/Desktop/nilmtk-contrib/dataport.hdf5',\n",
    "\t\t\t'buildings': {\n",
    "\t\t\t\t10: {\n",
    "\t\t\t\t\t'start_time': '2015-04-05',\n",
    "\t\t\t\t\t'end_time': '2015-04-06'\n",
    "\t\t\t\t},\n",
    "\t\t\t}\n",
    "\t}\n",
    "},\n",
    "        'metrics':['mae']\n",
    "}\n",
    "}"
   ]
  },
  {
   "cell_type": "code",
   "execution_count": null,
   "metadata": {},
   "outputs": [
    {
     "name": "stdout",
     "output_type": "stream",
     "text": [
      "Started training for  WindowGRU\n",
      "Joint training for  WindowGRU\n",
      "............... Loading Data for training ...................\n",
      "Loading data for  Dataport  dataset\n",
      "Loading building ...  10\n",
      "Dropping missing values\n",
      "Train Jointly\n",
      "(1440, 1) (1440, 1) MultiIndex([('power', 'active')],\n",
      "           names=['physical_quantity', 'type']) MultiIndex([('power', 'active')],\n",
      "           names=['physical_quantity', 'type'])\n",
      "Training processing\n",
      "First model training for  fridge\n",
      "Train on 1224 samples, validate on 216 samples\n",
      "Epoch 1/50\n",
      "1224/1224 [==============================] - 17s 14ms/step - loss: 0.0034 - val_loss: 0.0033\n",
      "\n",
      "Epoch 00001: val_loss improved from inf to 0.00331, saving model to windowgru-temp-weights-1944.h5\n",
      "Epoch 2/50\n",
      "1224/1224 [==============================] - 14s 11ms/step - loss: 0.0030 - val_loss: 0.0035\n",
      "\n",
      "Epoch 00002: val_loss did not improve from 0.00331\n",
      "Epoch 3/50\n",
      "1224/1224 [==============================] - 15s 12ms/step - loss: 0.0026 - val_loss: 0.0023\n",
      "\n",
      "Epoch 00003: val_loss improved from 0.00331 to 0.00234, saving model to windowgru-temp-weights-1944.h5\n",
      "Epoch 4/50\n",
      "1224/1224 [==============================] - 15s 12ms/step - loss: 0.0021 - val_loss: 0.0016\n",
      "\n",
      "Epoch 00004: val_loss improved from 0.00234 to 0.00161, saving model to windowgru-temp-weights-1944.h5\n",
      "Epoch 5/50\n",
      "1224/1224 [==============================] - 15s 12ms/step - loss: 0.0017 - val_loss: 0.0013\n",
      "\n",
      "Epoch 00005: val_loss improved from 0.00161 to 0.00135, saving model to windowgru-temp-weights-1944.h5\n",
      "Epoch 6/50\n",
      "1224/1224 [==============================] - 14s 11ms/step - loss: 0.0017 - val_loss: 0.0015\n",
      "\n",
      "Epoch 00006: val_loss did not improve from 0.00135\n",
      "Epoch 7/50\n",
      "1224/1224 [==============================] - 14s 12ms/step - loss: 0.0015 - val_loss: 0.0013\n",
      "\n",
      "Epoch 00007: val_loss improved from 0.00135 to 0.00131, saving model to windowgru-temp-weights-1944.h5\n",
      "Epoch 8/50\n",
      "1224/1224 [==============================] - 14s 12ms/step - loss: 0.0014 - val_loss: 0.0010\n",
      "\n",
      "Epoch 00008: val_loss improved from 0.00131 to 0.00104, saving model to windowgru-temp-weights-1944.h5\n",
      "Epoch 9/50\n",
      "1224/1224 [==============================] - 16s 13ms/step - loss: 0.0013 - val_loss: 0.0015\n",
      "\n",
      "Epoch 00009: val_loss did not improve from 0.00104\n",
      "Epoch 10/50\n",
      "1224/1224 [==============================] - 16s 13ms/step - loss: 0.0014 - val_loss: 0.0012\n",
      "\n",
      "Epoch 00010: val_loss did not improve from 0.00104\n",
      "Epoch 11/50\n",
      "1224/1224 [==============================] - 18s 15ms/step - loss: 0.0014 - val_loss: 8.9085e-04\n",
      "\n",
      "Epoch 00011: val_loss improved from 0.00104 to 0.00089, saving model to windowgru-temp-weights-1944.h5\n",
      "Epoch 12/50\n",
      "1224/1224 [==============================] - 18s 15ms/step - loss: 0.0013 - val_loss: 9.5594e-04\n",
      "\n",
      "Epoch 00012: val_loss did not improve from 0.00089\n",
      "Epoch 13/50\n",
      "1224/1224 [==============================] - 18s 15ms/step - loss: 0.0012 - val_loss: 0.0010\n",
      "\n",
      "Epoch 00013: val_loss did not improve from 0.00089\n",
      "Epoch 14/50\n",
      "1224/1224 [==============================] - 16s 13ms/step - loss: 0.0011 - val_loss: 9.1014e-04\n",
      "\n",
      "Epoch 00014: val_loss did not improve from 0.00089\n",
      "Epoch 15/50\n",
      "1224/1224 [==============================] - 15s 12ms/step - loss: 0.0011 - val_loss: 7.8505e-04\n",
      "\n",
      "Epoch 00015: val_loss improved from 0.00089 to 0.00079, saving model to windowgru-temp-weights-1944.h5\n",
      "Epoch 16/50\n",
      "1224/1224 [==============================] - 16s 13ms/step - loss: 9.6352e-04 - val_loss: 7.8047e-04\n",
      "\n",
      "Epoch 00016: val_loss improved from 0.00079 to 0.00078, saving model to windowgru-temp-weights-1944.h5\n",
      "Epoch 17/50\n",
      "1224/1224 [==============================] - 16s 13ms/step - loss: 9.4010e-04 - val_loss: 8.4014e-04\n",
      "\n",
      "Epoch 00017: val_loss did not improve from 0.00078\n",
      "Epoch 18/50\n",
      "1224/1224 [==============================] - 16s 13ms/step - loss: 9.2168e-04 - val_loss: 6.4190e-04\n",
      "\n",
      "Epoch 00018: val_loss improved from 0.00078 to 0.00064, saving model to windowgru-temp-weights-1944.h5\n",
      "Epoch 19/50\n",
      "1224/1224 [==============================] - 18s 15ms/step - loss: 8.8710e-04 - val_loss: 6.4617e-04\n",
      "\n",
      "Epoch 00019: val_loss did not improve from 0.00064\n",
      "Epoch 20/50\n",
      "1224/1224 [==============================] - 16s 13ms/step - loss: 7.6986e-04 - val_loss: 5.6998e-04\n",
      "\n",
      "Epoch 00020: val_loss improved from 0.00064 to 0.00057, saving model to windowgru-temp-weights-1944.h5\n",
      "Epoch 21/50\n",
      "1224/1224 [==============================] - 16s 13ms/step - loss: 7.1059e-04 - val_loss: 5.8278e-04\n",
      "\n",
      "Epoch 00021: val_loss did not improve from 0.00057\n",
      "Epoch 22/50\n",
      "1224/1224 [==============================] - 15s 12ms/step - loss: 6.2735e-04 - val_loss: 5.7182e-04\n",
      "\n",
      "Epoch 00022: val_loss did not improve from 0.00057\n",
      "Epoch 23/50\n",
      "1224/1224 [==============================] - 16s 13ms/step - loss: 6.4023e-04 - val_loss: 5.5501e-04\n",
      "\n",
      "Epoch 00023: val_loss improved from 0.00057 to 0.00056, saving model to windowgru-temp-weights-1944.h5\n",
      "Epoch 24/50\n",
      "1224/1224 [==============================] - 17s 14ms/step - loss: 6.8889e-04 - val_loss: 7.0244e-04\n",
      "\n",
      "Epoch 00024: val_loss did not improve from 0.00056\n",
      "Epoch 25/50\n",
      "1224/1224 [==============================] - 18s 15ms/step - loss: 6.8316e-04 - val_loss: 4.7923e-04\n",
      "\n",
      "Epoch 00025: val_loss improved from 0.00056 to 0.00048, saving model to windowgru-temp-weights-1944.h5\n",
      "Epoch 26/50\n",
      "1224/1224 [==============================] - 16s 13ms/step - loss: 5.6879e-04 - val_loss: 4.2824e-04\n",
      "\n",
      "Epoch 00026: val_loss improved from 0.00048 to 0.00043, saving model to windowgru-temp-weights-1944.h5\n",
      "Epoch 27/50\n",
      "1224/1224 [==============================] - 17s 14ms/step - loss: 5.1069e-04 - val_loss: 4.1025e-04\n",
      "\n",
      "Epoch 00027: val_loss improved from 0.00043 to 0.00041, saving model to windowgru-temp-weights-1944.h5\n",
      "Epoch 28/50\n",
      "1224/1224 [==============================] - 16s 13ms/step - loss: 4.7857e-04 - val_loss: 3.1862e-04\n",
      "\n",
      "Epoch 00028: val_loss improved from 0.00041 to 0.00032, saving model to windowgru-temp-weights-1944.h5\n",
      "Epoch 29/50\n",
      "1224/1224 [==============================] - 17s 13ms/step - loss: 4.8479e-04 - val_loss: 3.8618e-04\n",
      "\n",
      "Epoch 00029: val_loss did not improve from 0.00032\n",
      "Epoch 30/50\n",
      "1224/1224 [==============================] - 17s 14ms/step - loss: 3.8585e-04 - val_loss: 3.8241e-04\n",
      "\n",
      "Epoch 00030: val_loss did not improve from 0.00032\n",
      "Epoch 31/50\n",
      "1224/1224 [==============================] - 15s 12ms/step - loss: 4.2440e-04 - val_loss: 4.0545e-04\n",
      "\n",
      "Epoch 00031: val_loss did not improve from 0.00032\n",
      "Epoch 32/50\n",
      "1224/1224 [==============================] - 16s 13ms/step - loss: 4.2258e-04 - val_loss: 3.7778e-04\n",
      "\n",
      "Epoch 00032: val_loss did not improve from 0.00032\n",
      "Epoch 33/50\n",
      "1224/1224 [==============================] - 17s 14ms/step - loss: 4.1868e-04 - val_loss: 4.1733e-04\n",
      "\n",
      "Epoch 00033: val_loss did not improve from 0.00032\n",
      "Epoch 34/50\n",
      "1224/1224 [==============================] - 17s 14ms/step - loss: 4.4425e-04 - val_loss: 3.3495e-04\n",
      "\n",
      "Epoch 00034: val_loss did not improve from 0.00032\n",
      "Epoch 35/50\n",
      "1224/1224 [==============================] - 17s 14ms/step - loss: 3.6014e-04 - val_loss: 4.7067e-04\n",
      "\n",
      "Epoch 00035: val_loss did not improve from 0.00032\n",
      "Epoch 36/50\n",
      "1224/1224 [==============================] - 17s 14ms/step - loss: 3.5810e-04 - val_loss: 3.3535e-04\n",
      "\n",
      "Epoch 00036: val_loss did not improve from 0.00032\n",
      "Epoch 37/50\n",
      "1224/1224 [==============================] - 14s 12ms/step - loss: 3.6132e-04 - val_loss: 3.4881e-04\n",
      "\n",
      "Epoch 00037: val_loss did not improve from 0.00032\n",
      "Epoch 38/50\n",
      "1224/1224 [==============================] - 15s 12ms/step - loss: 3.8099e-04 - val_loss: 3.7276e-04\n",
      "\n",
      "Epoch 00038: val_loss did not improve from 0.00032\n",
      "Epoch 39/50\n",
      " 544/1224 [============>.................] - ETA: 8s - loss: 3.6000e-04"
     ]
    }
   ],
   "source": [
    "api_res = API(redd)"
   ]
  },
  {
   "cell_type": "code",
   "execution_count": 14,
   "metadata": {},
   "outputs": [
    {
     "data": {
      "text/plain": [
       "[             Mean         DSC      AFHMM  AFHMM_SAC\n",
       " fridge  39.607208  133.651459  63.007149  44.176247]"
      ]
     },
     "execution_count": 14,
     "metadata": {},
     "output_type": "execute_result"
    }
   ],
   "source": [
    "api_res.errors"
   ]
  },
  {
   "cell_type": "code",
   "execution_count": 8,
   "metadata": {},
   "outputs": [
    {
     "data": {
      "text/plain": [
       "['Datport_10_mae']"
      ]
     },
     "execution_count": 8,
     "metadata": {},
     "output_type": "execute_result"
    }
   ],
   "source": [
    "api_res.errors_keys"
   ]
  },
  {
   "cell_type": "code",
   "execution_count": null,
   "metadata": {},
   "outputs": [],
   "source": []
  },
  {
   "cell_type": "code",
   "execution_count": null,
   "metadata": {},
   "outputs": [],
   "source": []
  },
  {
   "cell_type": "code",
   "execution_count": null,
   "metadata": {},
   "outputs": [],
   "source": []
  },
  {
   "cell_type": "code",
   "execution_count": null,
   "metadata": {},
   "outputs": [],
   "source": []
  },
  {
   "cell_type": "code",
   "execution_count": null,
   "metadata": {},
   "outputs": [],
   "source": []
  }
 ],
 "metadata": {
  "kernelspec": {
   "display_name": "Python 3",
   "language": "python",
   "name": "python3"
  },
  "language_info": {
   "codemirror_mode": {
    "name": "ipython",
    "version": 3
   },
   "file_extension": ".py",
   "mimetype": "text/x-python",
   "name": "python",
   "nbconvert_exporter": "python",
   "pygments_lexer": "ipython3",
   "version": "3.6.7"
  }
 },
 "nbformat": 4,
 "nbformat_minor": 2
}
